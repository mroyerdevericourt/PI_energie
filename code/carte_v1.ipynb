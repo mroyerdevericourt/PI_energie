{
 "metadata": {
  "language_info": {
   "codemirror_mode": {
    "name": "ipython",
    "version": 3
   },
   "file_extension": ".py",
   "mimetype": "text/x-python",
   "name": "python",
   "nbconvert_exporter": "python",
   "pygments_lexer": "ipython3",
   "version": "3.8.5-final"
  },
  "orig_nbformat": 2,
  "kernelspec": {
   "name": "python3",
   "display_name": "Python 3.8.5 64-bit (conda)",
   "metadata": {
    "interpreter": {
     "hash": "461181d9905ae0bc5e2501e05aa88701342605a7d48745a5aedbbf32053afa68"
    }
   }
  }
 },
 "nbformat": 4,
 "nbformat_minor": 2,
 "cells": [
  {
   "source": [
    "## Première version de carte interactive : lit le fichier csv (séparateur = ;) qui sort de requete.py et l'affiche sur une carte (Folium)"
   ],
   "cell_type": "markdown",
   "metadata": {}
  },
  {
   "cell_type": "code",
   "execution_count": 8,
   "metadata": {},
   "outputs": [],
   "source": [
    "import folium as fm\n",
    "import csv\n",
    "import pandas as pd"
   ]
  },
  {
   "cell_type": "code",
   "execution_count": 5,
   "metadata": {},
   "outputs": [],
   "source": [
    "#création du fond de carte (on prend un point arbitraitre dans la communauté de communes de Montereau)\n",
    "m = folium.Map(location=[48.39406536332271, 2.9518367606924776], zoom_start=12)"
   ]
  },
  {
   "source": [
    "Le fichier produit par le programme requete.py se nomme DLE-elec-2019-geocoded.csv\n",
    "\n",
    "Ses données sont au format : OPERATEUR ; ANNEE ; FILIERE ; CODE IRIS ; NOM COMMUNE ; ADRESSE ; CODE GRAND SECTEUR ; CONSO (en MWh) ; PDL\n"
   ],
   "cell_type": "markdown",
   "metadata": {}
  },
  {
   "cell_type": "code",
   "execution_count": 3,
   "metadata": {},
   "outputs": [],
   "source": [
    "#ici on va faire des tests avec un petit fichier qui s'appelle mini_test_DLE dans le dossier code"
   ]
  },
  {
   "cell_type": "code",
   "execution_count": 26,
   "metadata": {},
   "outputs": [],
   "source": [
    "base = pd.read_csv(\"mini_test_DLE.csv\", \";\")"
   ]
  },
  {
   "cell_type": "code",
   "execution_count": 27,
   "metadata": {},
   "outputs": [
    {
     "output_type": "stream",
     "name": "stdout",
     "text": [
      "  OPERATEUR  ANNEE FILIERE CODE_IRIS NOM_COMMUNE              ADRESSE  \\\n0    Enedis   2019       E      osef        osef     Stade Jean Bouin   \n1    Enedis   2019       E      osef        osef  Lycée André Malraux   \n\n  CODE_GRAND_CONSO  CONSO  PDL   latitude  longitude  \n0                I    100  231  48.394949   2.949219  \n1                R    200  343  48.395462   2.958746  \n"
     ]
    }
   ],
   "source": [
    "print(base.head())"
   ]
  },
  {
   "cell_type": "code",
   "execution_count": 28,
   "metadata": {},
   "outputs": [
    {
     "output_type": "execute_result",
     "data": {
      "text/plain": [
       "OPERATEUR                     Enedis\n",
       "ANNEE                           2019\n",
       "FILIERE                            E\n",
       "CODE_IRIS                       osef\n",
       "NOM_COMMUNE                     osef\n",
       "ADRESSE             Stade Jean Bouin\n",
       "CODE_GRAND_CONSO                   I\n",
       "CONSO                            100\n",
       "PDL                              231\n",
       "latitude                   48.394949\n",
       "longitude                   2.949219\n",
       "Name: 0, dtype: object"
      ]
     },
     "metadata": {},
     "execution_count": 28
    }
   ],
   "source": [
    "base.loc[0]"
   ]
  },
  {
   "cell_type": "code",
   "execution_count": 21,
   "metadata": {},
   "outputs": [
    {
     "output_type": "execute_result",
     "data": {
      "text/plain": [
       "2019"
      ]
     },
     "metadata": {},
     "execution_count": 21
    }
   ],
   "source": [
    "base.loc[0]['ANNEE']"
   ]
  },
  {
   "cell_type": "code",
   "execution_count": 22,
   "metadata": {},
   "outputs": [
    {
     "output_type": "execute_result",
     "data": {
      "text/plain": [
       "2"
      ]
     },
     "metadata": {},
     "execution_count": 22
    }
   ],
   "source": [
    "len(base)"
   ]
  },
  {
   "cell_type": "code",
   "execution_count": 46,
   "metadata": {},
   "outputs": [],
   "source": [
    "for i in range(len(base)):\n",
    "    data = base.loc[i]\n",
    "    geocode = [data['latitude'],data['longitude']]\n",
    "    name_tip = data['ADRESSE']\n",
    "    filiere = data['FILIERE']\n",
    "    code_grandconso = data['CODE_GRAND_CONSO']\n",
    "    if filiere == 'E' :\n",
    "        name_filiere = 'Electricité'\n",
    "    if code_grandconso == 'I' :\n",
    "        name_grandconso = 'Industriel'\n",
    "        color_conso = 'red'\n",
    "    if code_grandconso == 'R':\n",
    "        name_grandconso = 'Résidentiel'\n",
    "        color_conso = 'blue'\n",
    "    folium.Marker(geocode,popup=f\"<p><strong>{name_tip}</strong></p><p><em>{name_grandconso}</em></p><p><em>{name_filiere}</em></p><p><strong>PDL</strong> :{str(data['PDL'])}</p><p><strong>Consommation</strong> : {str(data['CONSO'])}</p>\",tooltip=name_tip,color=color_conso).add_to(m)\n",
    "\n"
   ]
  },
  {
   "cell_type": "code",
   "execution_count": 47,
   "metadata": {},
   "outputs": [
    {
     "output_type": "execute_result",
     "data": {
      "text/plain": [
       "<folium.folium.Map at 0x27b9f10bd60>"
      ],
      "text/html": "<div style=\"width:100%;\"><div style=\"position:relative;width:100%;height:0;padding-bottom:60%;\"><span style=\"color:#565656\">Make this Notebook Trusted to load map: File -> Trust Notebook</span><iframe src=\"about:blank\" style=\"position:absolute;width:100%;height:100%;left:0;top:0;border:none !important;\" data-html=%3C%21DOCTYPE%20html%3E%0A%3Chead%3E%20%20%20%20%0A%20%20%20%20%3Cmeta%20http-equiv%3D%22content-type%22%20content%3D%22text/html%3B%20charset%3DUTF-8%22%20/%3E%0A%20%20%20%20%0A%20%20%20%20%20%20%20%20%3Cscript%3E%0A%20%20%20%20%20%20%20%20%20%20%20%20L_NO_TOUCH%20%3D%20false%3B%0A%20%20%20%20%20%20%20%20%20%20%20%20L_DISABLE_3D%20%3D%20false%3B%0A%20%20%20%20%20%20%20%20%3C/script%3E%0A%20%20%20%20%0A%20%20%20%20%3Cstyle%3Ehtml%2C%20body%20%7Bwidth%3A%20100%25%3Bheight%3A%20100%25%3Bmargin%3A%200%3Bpadding%3A%200%3B%7D%3C/style%3E%0A%20%20%20%20%3Cstyle%3E%23map%20%7Bposition%3Aabsolute%3Btop%3A0%3Bbottom%3A0%3Bright%3A0%3Bleft%3A0%3B%7D%3C/style%3E%0A%20%20%20%20%3Cscript%20src%3D%22https%3A//cdn.jsdelivr.net/npm/leaflet%401.6.0/dist/leaflet.js%22%3E%3C/script%3E%0A%20%20%20%20%3Cscript%20src%3D%22https%3A//code.jquery.com/jquery-1.12.4.min.js%22%3E%3C/script%3E%0A%20%20%20%20%3Cscript%20src%3D%22https%3A//maxcdn.bootstrapcdn.com/bootstrap/3.2.0/js/bootstrap.min.js%22%3E%3C/script%3E%0A%20%20%20%20%3Cscript%20src%3D%22https%3A//cdnjs.cloudflare.com/ajax/libs/Leaflet.awesome-markers/2.0.2/leaflet.awesome-markers.js%22%3E%3C/script%3E%0A%20%20%20%20%3Clink%20rel%3D%22stylesheet%22%20href%3D%22https%3A//cdn.jsdelivr.net/npm/leaflet%401.6.0/dist/leaflet.css%22/%3E%0A%20%20%20%20%3Clink%20rel%3D%22stylesheet%22%20href%3D%22https%3A//maxcdn.bootstrapcdn.com/bootstrap/3.2.0/css/bootstrap.min.css%22/%3E%0A%20%20%20%20%3Clink%20rel%3D%22stylesheet%22%20href%3D%22https%3A//maxcdn.bootstrapcdn.com/bootstrap/3.2.0/css/bootstrap-theme.min.css%22/%3E%0A%20%20%20%20%3Clink%20rel%3D%22stylesheet%22%20href%3D%22https%3A//maxcdn.bootstrapcdn.com/font-awesome/4.6.3/css/font-awesome.min.css%22/%3E%0A%20%20%20%20%3Clink%20rel%3D%22stylesheet%22%20href%3D%22https%3A//cdnjs.cloudflare.com/ajax/libs/Leaflet.awesome-markers/2.0.2/leaflet.awesome-markers.css%22/%3E%0A%20%20%20%20%3Clink%20rel%3D%22stylesheet%22%20href%3D%22https%3A//cdn.jsdelivr.net/gh/python-visualization/folium/folium/templates/leaflet.awesome.rotate.min.css%22/%3E%0A%20%20%20%20%0A%20%20%20%20%20%20%20%20%20%20%20%20%3Cmeta%20name%3D%22viewport%22%20content%3D%22width%3Ddevice-width%2C%0A%20%20%20%20%20%20%20%20%20%20%20%20%20%20%20%20initial-scale%3D1.0%2C%20maximum-scale%3D1.0%2C%20user-scalable%3Dno%22%20/%3E%0A%20%20%20%20%20%20%20%20%20%20%20%20%3Cstyle%3E%0A%20%20%20%20%20%20%20%20%20%20%20%20%20%20%20%20%23map_83b577d365f7466ea79c94c18365d4b9%20%7B%0A%20%20%20%20%20%20%20%20%20%20%20%20%20%20%20%20%20%20%20%20position%3A%20relative%3B%0A%20%20%20%20%20%20%20%20%20%20%20%20%20%20%20%20%20%20%20%20width%3A%20100.0%25%3B%0A%20%20%20%20%20%20%20%20%20%20%20%20%20%20%20%20%20%20%20%20height%3A%20100.0%25%3B%0A%20%20%20%20%20%20%20%20%20%20%20%20%20%20%20%20%20%20%20%20left%3A%200.0%25%3B%0A%20%20%20%20%20%20%20%20%20%20%20%20%20%20%20%20%20%20%20%20top%3A%200.0%25%3B%0A%20%20%20%20%20%20%20%20%20%20%20%20%20%20%20%20%7D%0A%20%20%20%20%20%20%20%20%20%20%20%20%3C/style%3E%0A%20%20%20%20%20%20%20%20%0A%3C/head%3E%0A%3Cbody%3E%20%20%20%20%0A%20%20%20%20%0A%20%20%20%20%20%20%20%20%20%20%20%20%3Cdiv%20class%3D%22folium-map%22%20id%3D%22map_83b577d365f7466ea79c94c18365d4b9%22%20%3E%3C/div%3E%0A%20%20%20%20%20%20%20%20%0A%3C/body%3E%0A%3Cscript%3E%20%20%20%20%0A%20%20%20%20%0A%20%20%20%20%20%20%20%20%20%20%20%20var%20map_83b577d365f7466ea79c94c18365d4b9%20%3D%20L.map%28%0A%20%20%20%20%20%20%20%20%20%20%20%20%20%20%20%20%22map_83b577d365f7466ea79c94c18365d4b9%22%2C%0A%20%20%20%20%20%20%20%20%20%20%20%20%20%20%20%20%7B%0A%20%20%20%20%20%20%20%20%20%20%20%20%20%20%20%20%20%20%20%20center%3A%20%5B48.39406536332271%2C%202.9518367606924776%5D%2C%0A%20%20%20%20%20%20%20%20%20%20%20%20%20%20%20%20%20%20%20%20crs%3A%20L.CRS.EPSG3857%2C%0A%20%20%20%20%20%20%20%20%20%20%20%20%20%20%20%20%20%20%20%20zoom%3A%2012%2C%0A%20%20%20%20%20%20%20%20%20%20%20%20%20%20%20%20%20%20%20%20zoomControl%3A%20true%2C%0A%20%20%20%20%20%20%20%20%20%20%20%20%20%20%20%20%20%20%20%20preferCanvas%3A%20false%2C%0A%20%20%20%20%20%20%20%20%20%20%20%20%20%20%20%20%7D%0A%20%20%20%20%20%20%20%20%20%20%20%20%29%3B%0A%0A%20%20%20%20%20%20%20%20%20%20%20%20%0A%0A%20%20%20%20%20%20%20%20%0A%20%20%20%20%0A%20%20%20%20%20%20%20%20%20%20%20%20var%20tile_layer_f274c7354edb491b905dbfcdbfbcf45e%20%3D%20L.tileLayer%28%0A%20%20%20%20%20%20%20%20%20%20%20%20%20%20%20%20%22https%3A//%7Bs%7D.tile.openstreetmap.org/%7Bz%7D/%7Bx%7D/%7By%7D.png%22%2C%0A%20%20%20%20%20%20%20%20%20%20%20%20%20%20%20%20%7B%22attribution%22%3A%20%22Data%20by%20%5Cu0026copy%3B%20%5Cu003ca%20href%3D%5C%22http%3A//openstreetmap.org%5C%22%5Cu003eOpenStreetMap%5Cu003c/a%5Cu003e%2C%20under%20%5Cu003ca%20href%3D%5C%22http%3A//www.openstreetmap.org/copyright%5C%22%5Cu003eODbL%5Cu003c/a%5Cu003e.%22%2C%20%22detectRetina%22%3A%20false%2C%20%22maxNativeZoom%22%3A%2018%2C%20%22maxZoom%22%3A%2018%2C%20%22minZoom%22%3A%200%2C%20%22noWrap%22%3A%20false%2C%20%22opacity%22%3A%201%2C%20%22subdomains%22%3A%20%22abc%22%2C%20%22tms%22%3A%20false%7D%0A%20%20%20%20%20%20%20%20%20%20%20%20%29.addTo%28map_83b577d365f7466ea79c94c18365d4b9%29%3B%0A%20%20%20%20%20%20%20%20%0A%20%20%20%20%0A%20%20%20%20%20%20%20%20%20%20%20%20var%20marker_dbc15f96c6ea426a84e07756a6697dfc%20%3D%20L.marker%28%0A%20%20%20%20%20%20%20%20%20%20%20%20%20%20%20%20%5B48.39494873%2C%202.949218924%5D%2C%0A%20%20%20%20%20%20%20%20%20%20%20%20%20%20%20%20%7B%7D%0A%20%20%20%20%20%20%20%20%20%20%20%20%29.addTo%28map_83b577d365f7466ea79c94c18365d4b9%29%3B%0A%20%20%20%20%20%20%20%20%0A%20%20%20%20%0A%20%20%20%20%20%20%20%20var%20popup_513f5b46ded84d47b2753deec8b25c6d%20%3D%20L.popup%28%7B%22maxWidth%22%3A%20%22100%25%22%7D%29%3B%0A%0A%20%20%20%20%20%20%20%20%0A%20%20%20%20%20%20%20%20%20%20%20%20var%20html_8f7c2a91b2a841569c4af40537bc411e%20%3D%20%24%28%60%3Cdiv%20id%3D%22html_8f7c2a91b2a841569c4af40537bc411e%22%20style%3D%22width%3A%20100.0%25%3B%20height%3A%20100.0%25%3B%22%3E%3Cp%3E%3Cstrong%3EStade%20Jean%20Bouin%3C/strong%3E%3C/p%3E%3Cp%3E%3Cem%3EIndustriel%3C/em%3E%3C/p%3E%3Cp%3E%3Cem%3EElectricit%C3%A9%3C/em%3E%3C/p%3E%3Cp%3E%3Cstrong%3EPDL%3C/strong%3E%20%3A231%3C/p%3E%3Cp%3E%3Cstrong%3EConsommation%3C/strong%3E%20%3A%20100/p%3E%3C/div%3E%60%29%5B0%5D%3B%0A%20%20%20%20%20%20%20%20%20%20%20%20popup_513f5b46ded84d47b2753deec8b25c6d.setContent%28html_8f7c2a91b2a841569c4af40537bc411e%29%3B%0A%20%20%20%20%20%20%20%20%0A%0A%20%20%20%20%20%20%20%20marker_dbc15f96c6ea426a84e07756a6697dfc.bindPopup%28popup_513f5b46ded84d47b2753deec8b25c6d%29%0A%20%20%20%20%20%20%20%20%3B%0A%0A%20%20%20%20%20%20%20%20%0A%20%20%20%20%0A%20%20%20%20%0A%20%20%20%20%20%20%20%20%20%20%20%20var%20marker_99ac02cd9adc4e3393fb482f23ed1ee4%20%3D%20L.marker%28%0A%20%20%20%20%20%20%20%20%20%20%20%20%20%20%20%20%5B48.39546165%2C%202.95874613%5D%2C%0A%20%20%20%20%20%20%20%20%20%20%20%20%20%20%20%20%7B%7D%0A%20%20%20%20%20%20%20%20%20%20%20%20%29.addTo%28map_83b577d365f7466ea79c94c18365d4b9%29%3B%0A%20%20%20%20%20%20%20%20%0A%20%20%20%20%0A%20%20%20%20%20%20%20%20var%20popup_ab991e7bf5ef46668c95dd49dd526759%20%3D%20L.popup%28%7B%22maxWidth%22%3A%20%22100%25%22%7D%29%3B%0A%0A%20%20%20%20%20%20%20%20%0A%20%20%20%20%20%20%20%20%20%20%20%20var%20html_eb6d3ac42fde4ac482a7ad47f6a92ba4%20%3D%20%24%28%60%3Cdiv%20id%3D%22html_eb6d3ac42fde4ac482a7ad47f6a92ba4%22%20style%3D%22width%3A%20100.0%25%3B%20height%3A%20100.0%25%3B%22%3E%3Cp%3E%3Cstrong%3ELyc%C3%A9e%20Andr%C3%A9%20Malraux%3C/strong%3E%3C/p%3E%3Cp%3E%3Cem%3ER%C3%A9sidentiel%3C/em%3E%3C/p%3E%3Cp%3E%3Cem%3EElectricit%C3%A9%3C/em%3E%3C/p%3E%3Cp%3E%3Cstrong%3EPDL%3C/strong%3E%20%3A343%3C/p%3E%3Cp%3E%3Cstrong%3EConsommation%3C/strong%3E%20%3A%20200/p%3E%3C/div%3E%60%29%5B0%5D%3B%0A%20%20%20%20%20%20%20%20%20%20%20%20popup_ab991e7bf5ef46668c95dd49dd526759.setContent%28html_eb6d3ac42fde4ac482a7ad47f6a92ba4%29%3B%0A%20%20%20%20%20%20%20%20%0A%0A%20%20%20%20%20%20%20%20marker_99ac02cd9adc4e3393fb482f23ed1ee4.bindPopup%28popup_ab991e7bf5ef46668c95dd49dd526759%29%0A%20%20%20%20%20%20%20%20%3B%0A%0A%20%20%20%20%20%20%20%20%0A%20%20%20%20%0A%20%20%20%20%0A%20%20%20%20%20%20%20%20%20%20%20%20var%20marker_9f6bbc7cffe44ea59032928c3bc7749d%20%3D%20L.marker%28%0A%20%20%20%20%20%20%20%20%20%20%20%20%20%20%20%20%5B48.39494873%2C%202.949218924%5D%2C%0A%20%20%20%20%20%20%20%20%20%20%20%20%20%20%20%20%7B%7D%0A%20%20%20%20%20%20%20%20%20%20%20%20%29.addTo%28map_83b577d365f7466ea79c94c18365d4b9%29%3B%0A%20%20%20%20%20%20%20%20%0A%20%20%20%20%0A%20%20%20%20%20%20%20%20var%20popup_a9790f9021e9498f95ff3acb666b2b0e%20%3D%20L.popup%28%7B%22maxWidth%22%3A%20%22100%25%22%7D%29%3B%0A%0A%20%20%20%20%20%20%20%20%0A%20%20%20%20%20%20%20%20%20%20%20%20var%20html_8155ef73e77f4bc497b73ad95d8732e3%20%3D%20%24%28%60%3Cdiv%20id%3D%22html_8155ef73e77f4bc497b73ad95d8732e3%22%20style%3D%22width%3A%20100.0%25%3B%20height%3A%20100.0%25%3B%22%3E%3Cp%3E%3Cstrong%3EStade%20Jean%20Bouin%3C/strong%3E%3C/p%3E%3Cp%3E%3Cem%3EIndustriel%3C/em%3E%3C/p%3E%3Cp%3E%3Cem%3EElectricit%C3%A9%3C/em%3E%3C/p%3E%3Cp%3E%3Cstrong%3EPDL%3C/strong%3E%20%3A231%3C/p%3E%3Cp%3E%3Cstrong%3EConsommation%3C/strong%3E%20%3A%20100%3C/p%3E%3C/div%3E%60%29%5B0%5D%3B%0A%20%20%20%20%20%20%20%20%20%20%20%20popup_a9790f9021e9498f95ff3acb666b2b0e.setContent%28html_8155ef73e77f4bc497b73ad95d8732e3%29%3B%0A%20%20%20%20%20%20%20%20%0A%0A%20%20%20%20%20%20%20%20marker_9f6bbc7cffe44ea59032928c3bc7749d.bindPopup%28popup_a9790f9021e9498f95ff3acb666b2b0e%29%0A%20%20%20%20%20%20%20%20%3B%0A%0A%20%20%20%20%20%20%20%20%0A%20%20%20%20%0A%20%20%20%20%0A%20%20%20%20%20%20%20%20%20%20%20%20var%20marker_d1dc7b489e14437f9ee78b6ad05dc0f6%20%3D%20L.marker%28%0A%20%20%20%20%20%20%20%20%20%20%20%20%20%20%20%20%5B48.39546165%2C%202.95874613%5D%2C%0A%20%20%20%20%20%20%20%20%20%20%20%20%20%20%20%20%7B%7D%0A%20%20%20%20%20%20%20%20%20%20%20%20%29.addTo%28map_83b577d365f7466ea79c94c18365d4b9%29%3B%0A%20%20%20%20%20%20%20%20%0A%20%20%20%20%0A%20%20%20%20%20%20%20%20var%20popup_6e933e88dcda42228fa6d896945d1c43%20%3D%20L.popup%28%7B%22maxWidth%22%3A%20%22100%25%22%7D%29%3B%0A%0A%20%20%20%20%20%20%20%20%0A%20%20%20%20%20%20%20%20%20%20%20%20var%20html_641b572fcd3f431d8ee1cdb255ebced3%20%3D%20%24%28%60%3Cdiv%20id%3D%22html_641b572fcd3f431d8ee1cdb255ebced3%22%20style%3D%22width%3A%20100.0%25%3B%20height%3A%20100.0%25%3B%22%3E%3Cp%3E%3Cstrong%3ELyc%C3%A9e%20Andr%C3%A9%20Malraux%3C/strong%3E%3C/p%3E%3Cp%3E%3Cem%3ER%C3%A9sidentiel%3C/em%3E%3C/p%3E%3Cp%3E%3Cem%3EElectricit%C3%A9%3C/em%3E%3C/p%3E%3Cp%3E%3Cstrong%3EPDL%3C/strong%3E%20%3A343%3C/p%3E%3Cp%3E%3Cstrong%3EConsommation%3C/strong%3E%20%3A%20200%3C/p%3E%3C/div%3E%60%29%5B0%5D%3B%0A%20%20%20%20%20%20%20%20%20%20%20%20popup_6e933e88dcda42228fa6d896945d1c43.setContent%28html_641b572fcd3f431d8ee1cdb255ebced3%29%3B%0A%20%20%20%20%20%20%20%20%0A%0A%20%20%20%20%20%20%20%20marker_d1dc7b489e14437f9ee78b6ad05dc0f6.bindPopup%28popup_6e933e88dcda42228fa6d896945d1c43%29%0A%20%20%20%20%20%20%20%20%3B%0A%0A%20%20%20%20%20%20%20%20%0A%20%20%20%20%0A%20%20%20%20%0A%20%20%20%20%20%20%20%20%20%20%20%20var%20marker_f7f013f1aa474a6db2bdc0f3f18832b4%20%3D%20L.marker%28%0A%20%20%20%20%20%20%20%20%20%20%20%20%20%20%20%20%5B48.39494873%2C%202.949218924%5D%2C%0A%20%20%20%20%20%20%20%20%20%20%20%20%20%20%20%20%7B%7D%0A%20%20%20%20%20%20%20%20%20%20%20%20%29.addTo%28map_83b577d365f7466ea79c94c18365d4b9%29%3B%0A%20%20%20%20%20%20%20%20%0A%20%20%20%20%0A%20%20%20%20%20%20%20%20var%20popup_c9bc715d5b334b36874b9e1ecbd6bb29%20%3D%20L.popup%28%7B%22maxWidth%22%3A%20%22100%25%22%7D%29%3B%0A%0A%20%20%20%20%20%20%20%20%0A%20%20%20%20%20%20%20%20%20%20%20%20var%20html_5bc72c672ea84a179cf184560dc08783%20%3D%20%24%28%60%3Cdiv%20id%3D%22html_5bc72c672ea84a179cf184560dc08783%22%20style%3D%22width%3A%20100.0%25%3B%20height%3A%20100.0%25%3B%22%3E%3Cp%3E%3Cstrong%3EStade%20Jean%20Bouin%3C/strong%3E%3C/p%3E%3Cp%3E%3Cem%3EIndustriel%3C/em%3E%3C/p%3E%3Cp%3E%3Cem%3EElectricit%C3%A9%3C/em%3E%3C/p%3E%3Cp%3E%3Cstrong%3EPDL%3C/strong%3E%20%3A231%3C/p%3E%3Cp%3E%3Cstrong%3EConsommation%3C/strong%3E%20%3A%20100%3C/p%3E%3C/div%3E%60%29%5B0%5D%3B%0A%20%20%20%20%20%20%20%20%20%20%20%20popup_c9bc715d5b334b36874b9e1ecbd6bb29.setContent%28html_5bc72c672ea84a179cf184560dc08783%29%3B%0A%20%20%20%20%20%20%20%20%0A%0A%20%20%20%20%20%20%20%20marker_f7f013f1aa474a6db2bdc0f3f18832b4.bindPopup%28popup_c9bc715d5b334b36874b9e1ecbd6bb29%29%0A%20%20%20%20%20%20%20%20%3B%0A%0A%20%20%20%20%20%20%20%20%0A%20%20%20%20%0A%20%20%20%20%0A%20%20%20%20%20%20%20%20%20%20%20%20marker_f7f013f1aa474a6db2bdc0f3f18832b4.bindTooltip%28%0A%20%20%20%20%20%20%20%20%20%20%20%20%20%20%20%20%60%3Cdiv%3E%0A%20%20%20%20%20%20%20%20%20%20%20%20%20%20%20%20%20%20%20%20%20Stade%20Jean%20Bouin%0A%20%20%20%20%20%20%20%20%20%20%20%20%20%20%20%20%20%3C/div%3E%60%2C%0A%20%20%20%20%20%20%20%20%20%20%20%20%20%20%20%20%7B%22sticky%22%3A%20true%7D%0A%20%20%20%20%20%20%20%20%20%20%20%20%29%3B%0A%20%20%20%20%20%20%20%20%0A%20%20%20%20%0A%20%20%20%20%20%20%20%20%20%20%20%20var%20marker_11b0065b54b54d7fa728394d9e1b2a37%20%3D%20L.marker%28%0A%20%20%20%20%20%20%20%20%20%20%20%20%20%20%20%20%5B48.39546165%2C%202.95874613%5D%2C%0A%20%20%20%20%20%20%20%20%20%20%20%20%20%20%20%20%7B%7D%0A%20%20%20%20%20%20%20%20%20%20%20%20%29.addTo%28map_83b577d365f7466ea79c94c18365d4b9%29%3B%0A%20%20%20%20%20%20%20%20%0A%20%20%20%20%0A%20%20%20%20%20%20%20%20var%20popup_9acd767dfc5a4a8a8cb927cbb49ba76d%20%3D%20L.popup%28%7B%22maxWidth%22%3A%20%22100%25%22%7D%29%3B%0A%0A%20%20%20%20%20%20%20%20%0A%20%20%20%20%20%20%20%20%20%20%20%20var%20html_5130778bbfac4b4aae5eea66a675b961%20%3D%20%24%28%60%3Cdiv%20id%3D%22html_5130778bbfac4b4aae5eea66a675b961%22%20style%3D%22width%3A%20100.0%25%3B%20height%3A%20100.0%25%3B%22%3E%3Cp%3E%3Cstrong%3ELyc%C3%A9e%20Andr%C3%A9%20Malraux%3C/strong%3E%3C/p%3E%3Cp%3E%3Cem%3ER%C3%A9sidentiel%3C/em%3E%3C/p%3E%3Cp%3E%3Cem%3EElectricit%C3%A9%3C/em%3E%3C/p%3E%3Cp%3E%3Cstrong%3EPDL%3C/strong%3E%20%3A343%3C/p%3E%3Cp%3E%3Cstrong%3EConsommation%3C/strong%3E%20%3A%20200%3C/p%3E%3C/div%3E%60%29%5B0%5D%3B%0A%20%20%20%20%20%20%20%20%20%20%20%20popup_9acd767dfc5a4a8a8cb927cbb49ba76d.setContent%28html_5130778bbfac4b4aae5eea66a675b961%29%3B%0A%20%20%20%20%20%20%20%20%0A%0A%20%20%20%20%20%20%20%20marker_11b0065b54b54d7fa728394d9e1b2a37.bindPopup%28popup_9acd767dfc5a4a8a8cb927cbb49ba76d%29%0A%20%20%20%20%20%20%20%20%3B%0A%0A%20%20%20%20%20%20%20%20%0A%20%20%20%20%0A%20%20%20%20%0A%20%20%20%20%20%20%20%20%20%20%20%20marker_11b0065b54b54d7fa728394d9e1b2a37.bindTooltip%28%0A%20%20%20%20%20%20%20%20%20%20%20%20%20%20%20%20%60%3Cdiv%3E%0A%20%20%20%20%20%20%20%20%20%20%20%20%20%20%20%20%20%20%20%20%20Lyc%C3%A9e%20Andr%C3%A9%20Malraux%0A%20%20%20%20%20%20%20%20%20%20%20%20%20%20%20%20%20%3C/div%3E%60%2C%0A%20%20%20%20%20%20%20%20%20%20%20%20%20%20%20%20%7B%22sticky%22%3A%20true%7D%0A%20%20%20%20%20%20%20%20%20%20%20%20%29%3B%0A%20%20%20%20%20%20%20%20%0A%20%20%20%20%0A%20%20%20%20%20%20%20%20%20%20%20%20var%20marker_0684a169e80b441da7533ecc3661e23a%20%3D%20L.marker%28%0A%20%20%20%20%20%20%20%20%20%20%20%20%20%20%20%20%5B48.39494873%2C%202.949218924%5D%2C%0A%20%20%20%20%20%20%20%20%20%20%20%20%20%20%20%20%7B%22color%22%3A%20%22red%22%7D%0A%20%20%20%20%20%20%20%20%20%20%20%20%29.addTo%28map_83b577d365f7466ea79c94c18365d4b9%29%3B%0A%20%20%20%20%20%20%20%20%0A%20%20%20%20%0A%20%20%20%20%20%20%20%20var%20popup_129596ce3fa2452ab00acc51ce75b772%20%3D%20L.popup%28%7B%22maxWidth%22%3A%20%22100%25%22%7D%29%3B%0A%0A%20%20%20%20%20%20%20%20%0A%20%20%20%20%20%20%20%20%20%20%20%20var%20html_7c0043fc309041f5a2a4bd5b1f5f1c10%20%3D%20%24%28%60%3Cdiv%20id%3D%22html_7c0043fc309041f5a2a4bd5b1f5f1c10%22%20style%3D%22width%3A%20100.0%25%3B%20height%3A%20100.0%25%3B%22%3E%3Cp%3E%3Cstrong%3EStade%20Jean%20Bouin%3C/strong%3E%3C/p%3E%3Cp%3E%3Cem%3EIndustriel%3C/em%3E%3C/p%3E%3Cp%3E%3Cem%3EElectricit%C3%A9%3C/em%3E%3C/p%3E%3Cp%3E%3Cstrong%3EPDL%3C/strong%3E%20%3A231%3C/p%3E%3Cp%3E%3Cstrong%3EConsommation%3C/strong%3E%20%3A%20100%3C/p%3E%3C/div%3E%60%29%5B0%5D%3B%0A%20%20%20%20%20%20%20%20%20%20%20%20popup_129596ce3fa2452ab00acc51ce75b772.setContent%28html_7c0043fc309041f5a2a4bd5b1f5f1c10%29%3B%0A%20%20%20%20%20%20%20%20%0A%0A%20%20%20%20%20%20%20%20marker_0684a169e80b441da7533ecc3661e23a.bindPopup%28popup_129596ce3fa2452ab00acc51ce75b772%29%0A%20%20%20%20%20%20%20%20%3B%0A%0A%20%20%20%20%20%20%20%20%0A%20%20%20%20%0A%20%20%20%20%0A%20%20%20%20%20%20%20%20%20%20%20%20marker_0684a169e80b441da7533ecc3661e23a.bindTooltip%28%0A%20%20%20%20%20%20%20%20%20%20%20%20%20%20%20%20%60%3Cdiv%3E%0A%20%20%20%20%20%20%20%20%20%20%20%20%20%20%20%20%20%20%20%20%20Stade%20Jean%20Bouin%0A%20%20%20%20%20%20%20%20%20%20%20%20%20%20%20%20%20%3C/div%3E%60%2C%0A%20%20%20%20%20%20%20%20%20%20%20%20%20%20%20%20%7B%22sticky%22%3A%20true%7D%0A%20%20%20%20%20%20%20%20%20%20%20%20%29%3B%0A%20%20%20%20%20%20%20%20%0A%20%20%20%20%0A%20%20%20%20%20%20%20%20%20%20%20%20var%20marker_99bcccbf556349f8b49102a891a2fcc6%20%3D%20L.marker%28%0A%20%20%20%20%20%20%20%20%20%20%20%20%20%20%20%20%5B48.39546165%2C%202.95874613%5D%2C%0A%20%20%20%20%20%20%20%20%20%20%20%20%20%20%20%20%7B%22color%22%3A%20%22blue%22%7D%0A%20%20%20%20%20%20%20%20%20%20%20%20%29.addTo%28map_83b577d365f7466ea79c94c18365d4b9%29%3B%0A%20%20%20%20%20%20%20%20%0A%20%20%20%20%0A%20%20%20%20%20%20%20%20var%20popup_1af7cea48f1d4a6b8f1006d4cf784059%20%3D%20L.popup%28%7B%22maxWidth%22%3A%20%22100%25%22%7D%29%3B%0A%0A%20%20%20%20%20%20%20%20%0A%20%20%20%20%20%20%20%20%20%20%20%20var%20html_d2a775446b0d41cbb039ca275fab5965%20%3D%20%24%28%60%3Cdiv%20id%3D%22html_d2a775446b0d41cbb039ca275fab5965%22%20style%3D%22width%3A%20100.0%25%3B%20height%3A%20100.0%25%3B%22%3E%3Cp%3E%3Cstrong%3ELyc%C3%A9e%20Andr%C3%A9%20Malraux%3C/strong%3E%3C/p%3E%3Cp%3E%3Cem%3ER%C3%A9sidentiel%3C/em%3E%3C/p%3E%3Cp%3E%3Cem%3EElectricit%C3%A9%3C/em%3E%3C/p%3E%3Cp%3E%3Cstrong%3EPDL%3C/strong%3E%20%3A343%3C/p%3E%3Cp%3E%3Cstrong%3EConsommation%3C/strong%3E%20%3A%20200%3C/p%3E%3C/div%3E%60%29%5B0%5D%3B%0A%20%20%20%20%20%20%20%20%20%20%20%20popup_1af7cea48f1d4a6b8f1006d4cf784059.setContent%28html_d2a775446b0d41cbb039ca275fab5965%29%3B%0A%20%20%20%20%20%20%20%20%0A%0A%20%20%20%20%20%20%20%20marker_99bcccbf556349f8b49102a891a2fcc6.bindPopup%28popup_1af7cea48f1d4a6b8f1006d4cf784059%29%0A%20%20%20%20%20%20%20%20%3B%0A%0A%20%20%20%20%20%20%20%20%0A%20%20%20%20%0A%20%20%20%20%0A%20%20%20%20%20%20%20%20%20%20%20%20marker_99bcccbf556349f8b49102a891a2fcc6.bindTooltip%28%0A%20%20%20%20%20%20%20%20%20%20%20%20%20%20%20%20%60%3Cdiv%3E%0A%20%20%20%20%20%20%20%20%20%20%20%20%20%20%20%20%20%20%20%20%20Lyc%C3%A9e%20Andr%C3%A9%20Malraux%0A%20%20%20%20%20%20%20%20%20%20%20%20%20%20%20%20%20%3C/div%3E%60%2C%0A%20%20%20%20%20%20%20%20%20%20%20%20%20%20%20%20%7B%22sticky%22%3A%20true%7D%0A%20%20%20%20%20%20%20%20%20%20%20%20%29%3B%0A%20%20%20%20%20%20%20%20%0A%20%20%20%20%0A%20%20%20%20%20%20%20%20%20%20%20%20var%20marker_ecbd6387dc0048859463b0ac6514a087%20%3D%20L.marker%28%0A%20%20%20%20%20%20%20%20%20%20%20%20%20%20%20%20%5B48.39494873%2C%202.949218924%5D%2C%0A%20%20%20%20%20%20%20%20%20%20%20%20%20%20%20%20%7B%22color%22%3A%20%22red%22%7D%0A%20%20%20%20%20%20%20%20%20%20%20%20%29.addTo%28map_83b577d365f7466ea79c94c18365d4b9%29%3B%0A%20%20%20%20%20%20%20%20%0A%20%20%20%20%0A%20%20%20%20%20%20%20%20var%20popup_7f3bebe2e7e94ac08d6796131b573bac%20%3D%20L.popup%28%7B%22maxWidth%22%3A%20%22100%25%22%7D%29%3B%0A%0A%20%20%20%20%20%20%20%20%0A%20%20%20%20%20%20%20%20%20%20%20%20var%20html_0b3d956241c3488fa6c74301ea6d73d5%20%3D%20%24%28%60%3Cdiv%20id%3D%22html_0b3d956241c3488fa6c74301ea6d73d5%22%20style%3D%22width%3A%20100.0%25%3B%20height%3A%20100.0%25%3B%22%3E%3Cp%3E%3Cstrong%3EStade%20Jean%20Bouin%3C/strong%3E%3C/p%3E%3Cp%3E%3Cem%3EIndustriel%3C/em%3E%3C/p%3E%3Cp%3E%3Cem%3EElectricit%C3%A9%3C/em%3E%3C/p%3E%3Cp%3E%3Cstrong%3EPDL%3C/strong%3E%20%3A231%3C/p%3E%3Cp%3E%3Cstrong%3EConsommation%3C/strong%3E%20%3A%20100%3C/p%3E%3C/div%3E%60%29%5B0%5D%3B%0A%20%20%20%20%20%20%20%20%20%20%20%20popup_7f3bebe2e7e94ac08d6796131b573bac.setContent%28html_0b3d956241c3488fa6c74301ea6d73d5%29%3B%0A%20%20%20%20%20%20%20%20%0A%0A%20%20%20%20%20%20%20%20marker_ecbd6387dc0048859463b0ac6514a087.bindPopup%28popup_7f3bebe2e7e94ac08d6796131b573bac%29%0A%20%20%20%20%20%20%20%20%3B%0A%0A%20%20%20%20%20%20%20%20%0A%20%20%20%20%0A%20%20%20%20%0A%20%20%20%20%20%20%20%20%20%20%20%20marker_ecbd6387dc0048859463b0ac6514a087.bindTooltip%28%0A%20%20%20%20%20%20%20%20%20%20%20%20%20%20%20%20%60%3Cdiv%3E%0A%20%20%20%20%20%20%20%20%20%20%20%20%20%20%20%20%20%20%20%20%20Stade%20Jean%20Bouin%0A%20%20%20%20%20%20%20%20%20%20%20%20%20%20%20%20%20%3C/div%3E%60%2C%0A%20%20%20%20%20%20%20%20%20%20%20%20%20%20%20%20%7B%22sticky%22%3A%20true%7D%0A%20%20%20%20%20%20%20%20%20%20%20%20%29%3B%0A%20%20%20%20%20%20%20%20%0A%20%20%20%20%0A%20%20%20%20%20%20%20%20%20%20%20%20var%20marker_399afb47c4e64531a80476ec2290a599%20%3D%20L.marker%28%0A%20%20%20%20%20%20%20%20%20%20%20%20%20%20%20%20%5B48.39546165%2C%202.95874613%5D%2C%0A%20%20%20%20%20%20%20%20%20%20%20%20%20%20%20%20%7B%22color%22%3A%20%22blue%22%7D%0A%20%20%20%20%20%20%20%20%20%20%20%20%29.addTo%28map_83b577d365f7466ea79c94c18365d4b9%29%3B%0A%20%20%20%20%20%20%20%20%0A%20%20%20%20%0A%20%20%20%20%20%20%20%20var%20popup_3ce73305d8b346f69944a08af5847098%20%3D%20L.popup%28%7B%22maxWidth%22%3A%20%22100%25%22%7D%29%3B%0A%0A%20%20%20%20%20%20%20%20%0A%20%20%20%20%20%20%20%20%20%20%20%20var%20html_cda76a5634d4430b92f52c56f303ab0c%20%3D%20%24%28%60%3Cdiv%20id%3D%22html_cda76a5634d4430b92f52c56f303ab0c%22%20style%3D%22width%3A%20100.0%25%3B%20height%3A%20100.0%25%3B%22%3E%3Cp%3E%3Cstrong%3ELyc%C3%A9e%20Andr%C3%A9%20Malraux%3C/strong%3E%3C/p%3E%3Cp%3E%3Cem%3ER%C3%A9sidentiel%3C/em%3E%3C/p%3E%3Cp%3E%3Cem%3EElectricit%C3%A9%3C/em%3E%3C/p%3E%3Cp%3E%3Cstrong%3EPDL%3C/strong%3E%20%3A343%3C/p%3E%3Cp%3E%3Cstrong%3EConsommation%3C/strong%3E%20%3A%20200%3C/p%3E%3C/div%3E%60%29%5B0%5D%3B%0A%20%20%20%20%20%20%20%20%20%20%20%20popup_3ce73305d8b346f69944a08af5847098.setContent%28html_cda76a5634d4430b92f52c56f303ab0c%29%3B%0A%20%20%20%20%20%20%20%20%0A%0A%20%20%20%20%20%20%20%20marker_399afb47c4e64531a80476ec2290a599.bindPopup%28popup_3ce73305d8b346f69944a08af5847098%29%0A%20%20%20%20%20%20%20%20%3B%0A%0A%20%20%20%20%20%20%20%20%0A%20%20%20%20%0A%20%20%20%20%0A%20%20%20%20%20%20%20%20%20%20%20%20marker_399afb47c4e64531a80476ec2290a599.bindTooltip%28%0A%20%20%20%20%20%20%20%20%20%20%20%20%20%20%20%20%60%3Cdiv%3E%0A%20%20%20%20%20%20%20%20%20%20%20%20%20%20%20%20%20%20%20%20%20Lyc%C3%A9e%20Andr%C3%A9%20Malraux%0A%20%20%20%20%20%20%20%20%20%20%20%20%20%20%20%20%20%3C/div%3E%60%2C%0A%20%20%20%20%20%20%20%20%20%20%20%20%20%20%20%20%7B%22sticky%22%3A%20true%7D%0A%20%20%20%20%20%20%20%20%20%20%20%20%29%3B%0A%20%20%20%20%20%20%20%20%0A%3C/script%3E onload=\"this.contentDocument.open();this.contentDocument.write(    decodeURIComponent(this.getAttribute('data-html')));this.contentDocument.close();\" allowfullscreen webkitallowfullscreen mozallowfullscreen></iframe></div></div>"
     },
     "metadata": {},
     "execution_count": 47
    }
   ],
   "source": [
    "m"
   ]
  },
  {
   "cell_type": "code",
   "execution_count": null,
   "metadata": {},
   "outputs": [],
   "source": []
  }
 ]
}